{
 "cells": [
  {
   "cell_type": "markdown",
   "metadata": {
    "id": "3DR-eO17geWu"
   },
   "source": [
    "# Convolutional Neural Network"
   ]
  },
  {
   "cell_type": "markdown",
   "metadata": {
    "id": "EMefrVPCg-60"
   },
   "source": [
    "### Importing the libraries"
   ]
  },
  {
   "cell_type": "code",
   "execution_count": 2,
   "metadata": {
    "id": "sCV30xyVhFbE"
   },
   "outputs": [],
   "source": [
    "import tensorflow as tf\n",
    "from tensorflow.keras.preprocessing.image import ImageDataGenerator"
   ]
  },
  {
   "cell_type": "code",
   "execution_count": 3,
   "metadata": {
    "colab": {
     "base_uri": "https://localhost:8080/",
     "height": 35
    },
    "id": "zm773JXzWTzh",
    "outputId": "dfe1e08a-a531-4a02-e094-c7177dda4f5b"
   },
   "outputs": [
    {
     "data": {
      "text/plain": [
       "'2.3.0'"
      ]
     },
     "execution_count": 3,
     "metadata": {},
     "output_type": "execute_result"
    }
   ],
   "source": [
    "tf.__version__"
   ]
  },
  {
   "cell_type": "markdown",
   "metadata": {
    "id": "oxQxCBWyoGPE"
   },
   "source": [
    "## Part 1 - Data Preprocessing"
   ]
  },
  {
   "cell_type": "markdown",
   "metadata": {
    "id": "MvE-heJNo3GG"
   },
   "source": [
    "### Preprocessing the Training set, Image augmentation to avoid overfitting problem"
   ]
  },
  {
   "cell_type": "code",
   "execution_count": 4,
   "metadata": {
    "id": "hYrqHPsLXElJ"
   },
   "outputs": [
    {
     "name": "stdout",
     "output_type": "stream",
     "text": [
      "Found 8000 images belonging to 2 classes.\n"
     ]
    }
   ],
   "source": [
    "train_datagen = ImageDataGenerator(rescale = 1./255,\n",
    "                                   shear_range = 0.2,\n",
    "                                   zoom_range = 0.2,\n",
    "                                   horizontal_flip = True)\n",
    "training_set = train_datagen.flow_from_directory('dataset/training_set',\n",
    "                                                 target_size = (64, 64),\n",
    "                                                 batch_size = 32,\n",
    "                                                 class_mode = 'binary')"
   ]
  },
  {
   "cell_type": "markdown",
   "metadata": {
    "id": "mrCMmGw9pHys"
   },
   "source": [
    "### Preprocessing the Test set"
   ]
  },
  {
   "cell_type": "code",
   "execution_count": 5,
   "metadata": {
    "id": "1DGbxzLOity6"
   },
   "outputs": [
    {
     "name": "stdout",
     "output_type": "stream",
     "text": [
      "Found 2000 images belonging to 2 classes.\n"
     ]
    }
   ],
   "source": [
    "test_datagen = ImageDataGenerator(rescale = 1./255)\n",
    "test_set = test_datagen.flow_from_directory('dataset/test_set',\n",
    "                                            target_size = (64, 64),\n",
    "                                            batch_size = 32,\n",
    "                                            class_mode = 'binary')"
   ]
  },
  {
   "cell_type": "markdown",
   "metadata": {
    "id": "af8O4l90gk7B"
   },
   "source": [
    "## Part 2 - Building the CNN"
   ]
  },
  {
   "cell_type": "markdown",
   "metadata": {
    "id": "ces1gXY2lmoX"
   },
   "source": [
    "### Initialising the CNN"
   ]
  },
  {
   "cell_type": "code",
   "execution_count": 6,
   "metadata": {
    "id": "oRaUcPrbjsgX"
   },
   "outputs": [],
   "source": [
    "cnn = tf.keras.models.Sequential()"
   ]
  },
  {
   "cell_type": "markdown",
   "metadata": {
    "id": "u5YJj_XMl5LF"
   },
   "source": [
    "### Step 1 - Convolution"
   ]
  },
  {
   "cell_type": "code",
   "execution_count": 7,
   "metadata": {
    "id": "_zzDSCqRjuQJ"
   },
   "outputs": [],
   "source": [
    "cnn.add(tf.keras.layers.Conv2D(filters=32, kernel_size=3, activation='relu', input_shape=[64, 64, 3]))"
   ]
  },
  {
   "cell_type": "markdown",
   "metadata": {
    "id": "tf87FpvxmNOJ"
   },
   "source": [
    "### Step 2 - Pooling"
   ]
  },
  {
   "cell_type": "code",
   "execution_count": 8,
   "metadata": {
    "id": "JzlKOEG6k3OP"
   },
   "outputs": [],
   "source": [
    "cnn.add(tf.keras.layers.MaxPool2D(pool_size=2, strides=2))"
   ]
  },
  {
   "cell_type": "markdown",
   "metadata": {
    "id": "xaTOgD8rm4mU"
   },
   "source": [
    "### Adding a second convolutional layer"
   ]
  },
  {
   "cell_type": "code",
   "execution_count": 9,
   "metadata": {
    "id": "pXhi3oc9mMMI"
   },
   "outputs": [],
   "source": [
    "cnn.add(tf.keras.layers.Conv2D(filters=32, kernel_size=3, activation='relu'))\n",
    "cnn.add(tf.keras.layers.MaxPool2D(pool_size=2, strides=2))"
   ]
  },
  {
   "cell_type": "markdown",
   "metadata": {
    "id": "tmiEuvTunKfk"
   },
   "source": [
    "### Step 3 - Flattening"
   ]
  },
  {
   "cell_type": "code",
   "execution_count": 10,
   "metadata": {
    "id": "7kJQkuIVmg7E"
   },
   "outputs": [],
   "source": [
    "cnn.add(tf.keras.layers.Flatten())"
   ]
  },
  {
   "cell_type": "markdown",
   "metadata": {
    "id": "dAoSECOm203v"
   },
   "source": [
    "### Step 4 - Full Connection"
   ]
  },
  {
   "cell_type": "code",
   "execution_count": 11,
   "metadata": {
    "id": "856nqLjTm2GN"
   },
   "outputs": [],
   "source": [
    "cnn.add(tf.keras.layers.Dense(units=128, activation='relu'))"
   ]
  },
  {
   "cell_type": "markdown",
   "metadata": {
    "id": "yTldFvbX28Na"
   },
   "source": [
    "### Step 5 - Output Layer"
   ]
  },
  {
   "cell_type": "code",
   "execution_count": 12,
   "metadata": {
    "id": "oWN3E2Q4nPOC"
   },
   "outputs": [],
   "source": [
    "cnn.add(tf.keras.layers.Dense(units=1, activation='sigmoid'))"
   ]
  },
  {
   "cell_type": "markdown",
   "metadata": {
    "id": "D6XkI90snSDl"
   },
   "source": [
    "## Part 3 - Training the CNN"
   ]
  },
  {
   "cell_type": "markdown",
   "metadata": {
    "id": "vfrFQACEnc6i"
   },
   "source": [
    "### Compiling the CNN"
   ]
  },
  {
   "cell_type": "code",
   "execution_count": 13,
   "metadata": {
    "id": "ELkn-PvXoDuA"
   },
   "outputs": [],
   "source": [
    "cnn.compile(optimizer = 'adam', loss = 'binary_crossentropy', metrics = ['accuracy'])"
   ]
  },
  {
   "cell_type": "markdown",
   "metadata": {
    "id": "ehS-v3MIpX2h"
   },
   "source": [
    "### Training the CNN on the Training set and evaluating it on the Test set"
   ]
  },
  {
   "cell_type": "code",
   "execution_count": 14,
   "metadata": {
    "id": "THY2qkqPogLY"
   },
   "outputs": [
    {
     "name": "stdout",
     "output_type": "stream",
     "text": [
      "Epoch 1/25\n",
      "250/250 [==============================] - 374s 1s/step - loss: 0.6724 - accuracy: 0.5807 - val_loss: 0.6364 - val_accuracy: 0.6460\n",
      "Epoch 2/25\n",
      "250/250 [==============================] - 130s 521ms/step - loss: 0.6159 - accuracy: 0.6650 - val_loss: 0.5851 - val_accuracy: 0.7010\n",
      "Epoch 3/25\n",
      "250/250 [==============================] - 99s 396ms/step - loss: 0.5699 - accuracy: 0.6976 - val_loss: 0.5511 - val_accuracy: 0.7225\n",
      "Epoch 4/25\n",
      "250/250 [==============================] - 96s 383ms/step - loss: 0.5449 - accuracy: 0.7275 - val_loss: 0.5253 - val_accuracy: 0.7485\n",
      "Epoch 5/25\n",
      "250/250 [==============================] - 72s 286ms/step - loss: 0.5097 - accuracy: 0.7445 - val_loss: 0.5063 - val_accuracy: 0.7550\n",
      "Epoch 6/25\n",
      "250/250 [==============================] - 72s 287ms/step - loss: 0.4954 - accuracy: 0.7628 - val_loss: 0.5131 - val_accuracy: 0.7550\n",
      "Epoch 7/25\n",
      "250/250 [==============================] - 45s 180ms/step - loss: 0.4822 - accuracy: 0.7711 - val_loss: 0.5114 - val_accuracy: 0.7610\n",
      "Epoch 8/25\n",
      "250/250 [==============================] - 44s 177ms/step - loss: 0.4623 - accuracy: 0.7794 - val_loss: 0.5084 - val_accuracy: 0.7635\n",
      "Epoch 9/25\n",
      "250/250 [==============================] - 43s 171ms/step - loss: 0.4454 - accuracy: 0.7921 - val_loss: 0.5008 - val_accuracy: 0.7735\n",
      "Epoch 10/25\n",
      "250/250 [==============================] - 43s 171ms/step - loss: 0.4366 - accuracy: 0.7928 - val_loss: 0.5161 - val_accuracy: 0.7605\n",
      "Epoch 11/25\n",
      "250/250 [==============================] - 56s 224ms/step - loss: 0.4161 - accuracy: 0.8077 - val_loss: 0.5271 - val_accuracy: 0.7700\n",
      "Epoch 12/25\n",
      "250/250 [==============================] - 43s 172ms/step - loss: 0.4053 - accuracy: 0.8155 - val_loss: 0.4626 - val_accuracy: 0.8010\n",
      "Epoch 13/25\n",
      "250/250 [==============================] - 43s 171ms/step - loss: 0.3905 - accuracy: 0.8256 - val_loss: 0.5110 - val_accuracy: 0.7660\n",
      "Epoch 14/25\n",
      "250/250 [==============================] - 43s 172ms/step - loss: 0.3650 - accuracy: 0.8347 - val_loss: 0.4751 - val_accuracy: 0.8005\n",
      "Epoch 15/25\n",
      "250/250 [==============================] - 43s 172ms/step - loss: 0.3599 - accuracy: 0.8414 - val_loss: 0.4489 - val_accuracy: 0.8090\n",
      "Epoch 16/25\n",
      "250/250 [==============================] - 43s 174ms/step - loss: 0.3497 - accuracy: 0.8478 - val_loss: 0.4771 - val_accuracy: 0.8030\n",
      "Epoch 17/25\n",
      "250/250 [==============================] - 44s 177ms/step - loss: 0.3347 - accuracy: 0.8546 - val_loss: 0.4796 - val_accuracy: 0.8095\n",
      "Epoch 18/25\n",
      "250/250 [==============================] - 89s 355ms/step - loss: 0.3242 - accuracy: 0.8572 - val_loss: 0.5176 - val_accuracy: 0.7910\n",
      "Epoch 19/25\n",
      "250/250 [==============================] - 67s 269ms/step - loss: 0.3006 - accuracy: 0.8729 - val_loss: 0.4777 - val_accuracy: 0.8125\n",
      "Epoch 20/25\n",
      "250/250 [==============================] - 42s 170ms/step - loss: 0.2846 - accuracy: 0.8775 - val_loss: 0.5233 - val_accuracy: 0.7860\n",
      "Epoch 21/25\n",
      "250/250 [==============================] - 42s 170ms/step - loss: 0.2832 - accuracy: 0.8785 - val_loss: 0.5226 - val_accuracy: 0.8010\n",
      "Epoch 22/25\n",
      "250/250 [==============================] - 43s 172ms/step - loss: 0.2719 - accuracy: 0.8836 - val_loss: 0.4911 - val_accuracy: 0.8080\n",
      "Epoch 23/25\n",
      "250/250 [==============================] - 43s 172ms/step - loss: 0.2477 - accuracy: 0.8970 - val_loss: 0.4925 - val_accuracy: 0.8110\n",
      "Epoch 24/25\n",
      "250/250 [==============================] - 43s 171ms/step - loss: 0.2490 - accuracy: 0.8982 - val_loss: 0.5427 - val_accuracy: 0.7975\n",
      "Epoch 25/25\n",
      "250/250 [==============================] - 44s 174ms/step - loss: 0.2217 - accuracy: 0.9066 - val_loss: 0.5109 - val_accuracy: 0.8110\n"
     ]
    },
    {
     "data": {
      "text/plain": [
       "<tensorflow.python.keras.callbacks.History at 0x1b0983d3970>"
      ]
     },
     "execution_count": 14,
     "metadata": {},
     "output_type": "execute_result"
    }
   ],
   "source": [
    "cnn.fit(x = training_set, validation_data = test_set, epochs = 25)"
   ]
  },
  {
   "cell_type": "markdown",
   "metadata": {
    "id": "U3PZasO0006Z"
   },
   "source": [
    "## Part 4 - Making a single prediction"
   ]
  },
  {
   "cell_type": "code",
   "execution_count": 41,
   "metadata": {
    "id": "PeZagwbLpvjp"
   },
   "outputs": [],
   "source": [
    "import numpy as np\n",
    "from tensorflow.keras.preprocessing import image\n",
    "test_image = image.load_img('dataset/single_prediction/cat_or_dog_7.jpg', target_size = (64, 64))\n",
    "test_image = image.img_to_array(test_image)\n",
    "test_image = np.expand_dims(test_image, axis = 0)\n",
    "result = cnn.predict(test_image/255.0)\n",
    "training_set.class_indices\n",
    "if result[0][0] > 0.5:\n",
    "  prediction = 'dog'\n",
    "else:\n",
    "  prediction = 'cat'"
   ]
  },
  {
   "cell_type": "code",
   "execution_count": 42,
   "metadata": {
    "id": "ED9KB3I54c1i"
   },
   "outputs": [
    {
     "name": "stdout",
     "output_type": "stream",
     "text": [
      "0.87117636 dog\n"
     ]
    }
   ],
   "source": [
    "print(result[0][0], prediction)"
   ]
  },
  {
   "cell_type": "code",
   "execution_count": null,
   "metadata": {},
   "outputs": [],
   "source": []
  }
 ],
 "metadata": {
  "colab": {
   "collapsed_sections": [],
   "name": "cnn_catsndogs.ipynb",
   "provenance": [],
   "toc_visible": true
  },
  "kernelspec": {
   "display_name": "Python 3",
   "language": "python",
   "name": "python3"
  },
  "language_info": {
   "codemirror_mode": {
    "name": "ipython",
    "version": 3
   },
   "file_extension": ".py",
   "mimetype": "text/x-python",
   "name": "python",
   "nbconvert_exporter": "python",
   "pygments_lexer": "ipython3",
   "version": "3.8.8"
  }
 },
 "nbformat": 4,
 "nbformat_minor": 1
}
